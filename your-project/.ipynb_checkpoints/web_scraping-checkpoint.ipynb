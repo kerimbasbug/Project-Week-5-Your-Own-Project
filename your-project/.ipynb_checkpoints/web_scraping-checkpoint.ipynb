{
 "cells": [
  {
   "cell_type": "code",
   "execution_count": null,
   "metadata": {},
   "outputs": [],
   "source": [
    "from selenium import webdriver\n",
    "import time\n",
    "\n",
    "browser = webdriver.Chrome('/Users/kerimbasbug/Downloads/chromedriver')\n",
    "browser.get(\"https://www.transtats.bts.gov/ONTIME/OriginDestination.aspx\")\n",
    "\n",
    "origin_name = \"Los Angeles, CA: Los Angeles International (LAX)\"\n",
    "des_name = \"New York, NY: John F. Kennedy International (JFK)\"\n",
    "ori = browser.find_element_by_id(\"cboAirport_Origin\")\n",
    "ori.send_keys(origin_name)\n",
    "des = browser.find_element_by_id(\"cboAirport_Dest\")\n",
    "des.send_keys(des_name)\n",
    "year_start =  browser.find_element_by_id(\"stdateyear\")\n",
    "year_start.send_keys(\"2016\")\n",
    "\n",
    "submit = browser.find_element_by_id(\"btnSubmit\")\n",
    "submit.click()\n",
    "\n",
    "browser.execute_script(\"window.scrollBy(0, 250)\")\n",
    "\n",
    "time.sleep(2)\n",
    "download = browser.find_element_by_id(\"DL_CSV\")\n",
    "download.click()\n"
   ]
  }
 ],
 "metadata": {
  "kernelspec": {
   "display_name": "Python 3",
   "language": "python",
   "name": "python3"
  },
  "language_info": {
   "codemirror_mode": {
    "name": "ipython",
    "version": 3
   },
   "file_extension": ".py",
   "mimetype": "text/x-python",
   "name": "python",
   "nbconvert_exporter": "python",
   "pygments_lexer": "ipython3",
   "version": "3.7.4"
  }
 },
 "nbformat": 4,
 "nbformat_minor": 2
}
